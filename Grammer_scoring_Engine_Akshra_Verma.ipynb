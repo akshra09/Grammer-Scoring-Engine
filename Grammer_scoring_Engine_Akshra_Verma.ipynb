{
  "nbformat": 4,
  "nbformat_minor": 0,
  "metadata": {
    "colab": {
      "provenance": [],
      "authorship_tag": "ABX9TyNkEPI6iKDJFQFd7o43Bb8W",
      "include_colab_link": true
    },
    "kernelspec": {
      "name": "python3",
      "display_name": "Python 3"
    },
    "language_info": {
      "name": "python"
    }
  },
  "cells": [
    {
      "cell_type": "markdown",
      "metadata": {
        "id": "view-in-github",
        "colab_type": "text"
      },
      "source": [
        "<a href=\"https://colab.research.google.com/github/akshra09/Grammer-Scoring-Engine/blob/main/Grammer_scoring_Engine_Akshra_Verma.ipynb\" target=\"_parent\"><img src=\"https://colab.research.google.com/assets/colab-badge.svg\" alt=\"Open In Colab\"/></a>"
      ]
    },
    {
      "cell_type": "code",
      "execution_count": 1,
      "metadata": {
        "colab": {
          "base_uri": "https://localhost:8080/",
          "height": 91
        },
        "id": "7ldDGNceogwK",
        "outputId": "1b3df0d0-32a3-4e11-c511-fff928446fbc"
      },
      "outputs": [
        {
          "output_type": "display_data",
          "data": {
            "text/plain": [
              "<IPython.core.display.HTML object>"
            ],
            "text/html": [
              "\n",
              "     <input type=\"file\" id=\"files-ff63a77b-ff3f-4c9c-9916-4e8bc55227f7\" name=\"files[]\" multiple disabled\n",
              "        style=\"border:none\" />\n",
              "     <output id=\"result-ff63a77b-ff3f-4c9c-9916-4e8bc55227f7\">\n",
              "      Upload widget is only available when the cell has been executed in the\n",
              "      current browser session. Please rerun this cell to enable.\n",
              "      </output>\n",
              "      <script>// Copyright 2017 Google LLC\n",
              "//\n",
              "// Licensed under the Apache License, Version 2.0 (the \"License\");\n",
              "// you may not use this file except in compliance with the License.\n",
              "// You may obtain a copy of the License at\n",
              "//\n",
              "//      http://www.apache.org/licenses/LICENSE-2.0\n",
              "//\n",
              "// Unless required by applicable law or agreed to in writing, software\n",
              "// distributed under the License is distributed on an \"AS IS\" BASIS,\n",
              "// WITHOUT WARRANTIES OR CONDITIONS OF ANY KIND, either express or implied.\n",
              "// See the License for the specific language governing permissions and\n",
              "// limitations under the License.\n",
              "\n",
              "/**\n",
              " * @fileoverview Helpers for google.colab Python module.\n",
              " */\n",
              "(function(scope) {\n",
              "function span(text, styleAttributes = {}) {\n",
              "  const element = document.createElement('span');\n",
              "  element.textContent = text;\n",
              "  for (const key of Object.keys(styleAttributes)) {\n",
              "    element.style[key] = styleAttributes[key];\n",
              "  }\n",
              "  return element;\n",
              "}\n",
              "\n",
              "// Max number of bytes which will be uploaded at a time.\n",
              "const MAX_PAYLOAD_SIZE = 100 * 1024;\n",
              "\n",
              "function _uploadFiles(inputId, outputId) {\n",
              "  const steps = uploadFilesStep(inputId, outputId);\n",
              "  const outputElement = document.getElementById(outputId);\n",
              "  // Cache steps on the outputElement to make it available for the next call\n",
              "  // to uploadFilesContinue from Python.\n",
              "  outputElement.steps = steps;\n",
              "\n",
              "  return _uploadFilesContinue(outputId);\n",
              "}\n",
              "\n",
              "// This is roughly an async generator (not supported in the browser yet),\n",
              "// where there are multiple asynchronous steps and the Python side is going\n",
              "// to poll for completion of each step.\n",
              "// This uses a Promise to block the python side on completion of each step,\n",
              "// then passes the result of the previous step as the input to the next step.\n",
              "function _uploadFilesContinue(outputId) {\n",
              "  const outputElement = document.getElementById(outputId);\n",
              "  const steps = outputElement.steps;\n",
              "\n",
              "  const next = steps.next(outputElement.lastPromiseValue);\n",
              "  return Promise.resolve(next.value.promise).then((value) => {\n",
              "    // Cache the last promise value to make it available to the next\n",
              "    // step of the generator.\n",
              "    outputElement.lastPromiseValue = value;\n",
              "    return next.value.response;\n",
              "  });\n",
              "}\n",
              "\n",
              "/**\n",
              " * Generator function which is called between each async step of the upload\n",
              " * process.\n",
              " * @param {string} inputId Element ID of the input file picker element.\n",
              " * @param {string} outputId Element ID of the output display.\n",
              " * @return {!Iterable<!Object>} Iterable of next steps.\n",
              " */\n",
              "function* uploadFilesStep(inputId, outputId) {\n",
              "  const inputElement = document.getElementById(inputId);\n",
              "  inputElement.disabled = false;\n",
              "\n",
              "  const outputElement = document.getElementById(outputId);\n",
              "  outputElement.innerHTML = '';\n",
              "\n",
              "  const pickedPromise = new Promise((resolve) => {\n",
              "    inputElement.addEventListener('change', (e) => {\n",
              "      resolve(e.target.files);\n",
              "    });\n",
              "  });\n",
              "\n",
              "  const cancel = document.createElement('button');\n",
              "  inputElement.parentElement.appendChild(cancel);\n",
              "  cancel.textContent = 'Cancel upload';\n",
              "  const cancelPromise = new Promise((resolve) => {\n",
              "    cancel.onclick = () => {\n",
              "      resolve(null);\n",
              "    };\n",
              "  });\n",
              "\n",
              "  // Wait for the user to pick the files.\n",
              "  const files = yield {\n",
              "    promise: Promise.race([pickedPromise, cancelPromise]),\n",
              "    response: {\n",
              "      action: 'starting',\n",
              "    }\n",
              "  };\n",
              "\n",
              "  cancel.remove();\n",
              "\n",
              "  // Disable the input element since further picks are not allowed.\n",
              "  inputElement.disabled = true;\n",
              "\n",
              "  if (!files) {\n",
              "    return {\n",
              "      response: {\n",
              "        action: 'complete',\n",
              "      }\n",
              "    };\n",
              "  }\n",
              "\n",
              "  for (const file of files) {\n",
              "    const li = document.createElement('li');\n",
              "    li.append(span(file.name, {fontWeight: 'bold'}));\n",
              "    li.append(span(\n",
              "        `(${file.type || 'n/a'}) - ${file.size} bytes, ` +\n",
              "        `last modified: ${\n",
              "            file.lastModifiedDate ? file.lastModifiedDate.toLocaleDateString() :\n",
              "                                    'n/a'} - `));\n",
              "    const percent = span('0% done');\n",
              "    li.appendChild(percent);\n",
              "\n",
              "    outputElement.appendChild(li);\n",
              "\n",
              "    const fileDataPromise = new Promise((resolve) => {\n",
              "      const reader = new FileReader();\n",
              "      reader.onload = (e) => {\n",
              "        resolve(e.target.result);\n",
              "      };\n",
              "      reader.readAsArrayBuffer(file);\n",
              "    });\n",
              "    // Wait for the data to be ready.\n",
              "    let fileData = yield {\n",
              "      promise: fileDataPromise,\n",
              "      response: {\n",
              "        action: 'continue',\n",
              "      }\n",
              "    };\n",
              "\n",
              "    // Use a chunked sending to avoid message size limits. See b/62115660.\n",
              "    let position = 0;\n",
              "    do {\n",
              "      const length = Math.min(fileData.byteLength - position, MAX_PAYLOAD_SIZE);\n",
              "      const chunk = new Uint8Array(fileData, position, length);\n",
              "      position += length;\n",
              "\n",
              "      const base64 = btoa(String.fromCharCode.apply(null, chunk));\n",
              "      yield {\n",
              "        response: {\n",
              "          action: 'append',\n",
              "          file: file.name,\n",
              "          data: base64,\n",
              "        },\n",
              "      };\n",
              "\n",
              "      let percentDone = fileData.byteLength === 0 ?\n",
              "          100 :\n",
              "          Math.round((position / fileData.byteLength) * 100);\n",
              "      percent.textContent = `${percentDone}% done`;\n",
              "\n",
              "    } while (position < fileData.byteLength);\n",
              "  }\n",
              "\n",
              "  // All done.\n",
              "  yield {\n",
              "    response: {\n",
              "      action: 'complete',\n",
              "    }\n",
              "  };\n",
              "}\n",
              "\n",
              "scope.google = scope.google || {};\n",
              "scope.google.colab = scope.google.colab || {};\n",
              "scope.google.colab._files = {\n",
              "  _uploadFiles,\n",
              "  _uploadFilesContinue,\n",
              "};\n",
              "})(self);\n",
              "</script> "
            ]
          },
          "metadata": {}
        },
        {
          "output_type": "stream",
          "name": "stdout",
          "text": [
            "Saving kaggle.json to kaggle.json\n"
          ]
        },
        {
          "output_type": "execute_result",
          "data": {
            "text/plain": [
              "{'kaggle.json': b'{\"username\":\"akshraverma09\",\"key\":\"bf042976131eaf510a8b28bef95e41b2\"}'}"
            ]
          },
          "metadata": {},
          "execution_count": 1
        }
      ],
      "source": [
        "from google.colab import files\n",
        "files.upload()"
      ]
    },
    {
      "cell_type": "code",
      "source": [
        "!mkdir -p ~/.kaggle\n",
        "!cp kaggle.json ~/.kaggle/\n",
        "!chmod 600 ~/.kaggle/kaggle.json"
      ],
      "metadata": {
        "id": "aYs3jrGQokaJ"
      },
      "execution_count": 2,
      "outputs": []
    },
    {
      "cell_type": "code",
      "source": [
        "!kaggle datasets download tapakah68/emotions-on-audio-dataset"
      ],
      "metadata": {
        "colab": {
          "base_uri": "https://localhost:8080/"
        },
        "id": "dAe5JHoFon0Y",
        "outputId": "34e51653-9ebe-466d-8b66-4672eb2b53b2"
      },
      "execution_count": 3,
      "outputs": [
        {
          "output_type": "stream",
          "name": "stdout",
          "text": [
            "Dataset URL: https://www.kaggle.com/datasets/tapakah68/emotions-on-audio-dataset\n",
            "License(s): Attribution-NonCommercial-NoDerivatives 4.0 International (CC BY-NC-ND 4.0)\n"
          ]
        }
      ]
    },
    {
      "cell_type": "code",
      "source": [
        "!unzip emotions-on-audio-dataset.zip -d emotions_audio_data\n"
      ],
      "metadata": {
        "colab": {
          "base_uri": "https://localhost:8080/"
        },
        "id": "TIH1jTo6oqDV",
        "outputId": "6700dd73-5451-425e-ba25-aeee4138b5d7"
      },
      "execution_count": 4,
      "outputs": [
        {
          "output_type": "stream",
          "name": "stdout",
          "text": [
            "Archive:  emotions-on-audio-dataset.zip\n",
            "  inflating: emotions_audio_data/files/00026029e0--64991b6eef1fe70609d48edc/euphoric.wav  \n",
            "  inflating: emotions_audio_data/files/00026029e0--64991b6eef1fe70609d48edc/joyfully.wav  \n",
            "  inflating: emotions_audio_data/files/00026029e0--64991b6eef1fe70609d48edc/sad.wav  \n",
            "  inflating: emotions_audio_data/files/00026029e0--64991b6eef1fe70609d48edc/surprised.wav  \n",
            "  inflating: emotions_audio_data/files/00026029e0--64991b72e0daf97163c09c66/euphoric.wav  \n",
            "  inflating: emotions_audio_data/files/00026029e0--64991b72e0daf97163c09c66/joyfully.wav  \n",
            "  inflating: emotions_audio_data/files/00026029e0--64991b72e0daf97163c09c66/sad.wav  \n",
            "  inflating: emotions_audio_data/files/00026029e0--64991b72e0daf97163c09c66/surprised.wav  \n",
            "  inflating: emotions_audio_data/files/00026029e0--64991b7fd94c0d5726dec353/euphoric.wav  \n",
            "  inflating: emotions_audio_data/files/00026029e0--64991b7fd94c0d5726dec353/joyfully.wav  \n",
            "  inflating: emotions_audio_data/files/00026029e0--64991b7fd94c0d5726dec353/sad.wav  \n",
            "  inflating: emotions_audio_data/files/00026029e0--64991b7fd94c0d5726dec353/surprised.wav  \n",
            "  inflating: emotions_audio_data/files/00026029e0--64991b907f82d9763944eba2/euphoric.wav  \n",
            "  inflating: emotions_audio_data/files/00026029e0--64991b907f82d9763944eba2/joyfully.wav  \n",
            "  inflating: emotions_audio_data/files/00026029e0--64991b907f82d9763944eba2/sad.wav  \n",
            "  inflating: emotions_audio_data/files/00026029e0--64991b907f82d9763944eba2/surprised.wav  \n",
            "  inflating: emotions_audio_data/files/00026029e0--64991bf2ffab6240f9f2418b/euphoric.mpeg  \n",
            "  inflating: emotions_audio_data/files/00026029e0--64991bf2ffab6240f9f2418b/joyfully.mpeg  \n",
            "  inflating: emotions_audio_data/files/00026029e0--64991bf2ffab6240f9f2418b/sad.mpeg  \n",
            "  inflating: emotions_audio_data/files/00026029e0--64991bf2ffab6240f9f2418b/surprised.mpeg  \n",
            "  inflating: emotions_audio_data/files/00026029e0--64991bfc63d8b20f56d0e1fb/euphoric.wav  \n",
            "  inflating: emotions_audio_data/files/00026029e0--64991bfc63d8b20f56d0e1fb/joyfully.wav  \n",
            "  inflating: emotions_audio_data/files/00026029e0--64991bfc63d8b20f56d0e1fb/sad.wav  \n",
            "  inflating: emotions_audio_data/files/00026029e0--64991bfc63d8b20f56d0e1fb/surprised.wav  \n",
            "  inflating: emotions_audio_data/files/00026029e0--64991c0dd94c0d5726df032a/euphoric.wav  \n",
            "  inflating: emotions_audio_data/files/00026029e0--64991c0dd94c0d5726df032a/joyfully.wav  \n",
            "  inflating: emotions_audio_data/files/00026029e0--64991c0dd94c0d5726df032a/sad.wav  \n",
            "  inflating: emotions_audio_data/files/00026029e0--64991c0dd94c0d5726df032a/surprised.wav  \n",
            "  inflating: emotions_audio_data/files/00026029e0--64991c3e63d8b20f56d0eeba/euphoric.wav  \n",
            "  inflating: emotions_audio_data/files/00026029e0--64991c3e63d8b20f56d0eeba/joyfully.wav  \n",
            "  inflating: emotions_audio_data/files/00026029e0--64991c3e63d8b20f56d0eeba/sad.wav  \n",
            "  inflating: emotions_audio_data/files/00026029e0--64991c3e63d8b20f56d0eeba/surprised.wav  \n",
            "  inflating: emotions_audio_data/files/00026029e0--64991c9e7f82d97639452402/euphoric.wav  \n",
            "  inflating: emotions_audio_data/files/00026029e0--64991c9e7f82d97639452402/joyfully.wav  \n",
            "  inflating: emotions_audio_data/files/00026029e0--64991c9e7f82d97639452402/sad.wav  \n",
            "  inflating: emotions_audio_data/files/00026029e0--64991c9e7f82d97639452402/surprised.wav  \n",
            "  inflating: emotions_audio_data/files/00026029e0--64992031e0daf97163c20229/euphoric.wav  \n",
            "  inflating: emotions_audio_data/files/00026029e0--64992031e0daf97163c20229/joyfully.wav  \n",
            "  inflating: emotions_audio_data/files/00026029e0--64992031e0daf97163c20229/sad.wav  \n",
            "  inflating: emotions_audio_data/files/00026029e0--64992031e0daf97163c20229/surprised.wav  \n",
            "  inflating: emotions_audio_data/files/00026029e0--64992044d94c0d5726dfffc7/euphoric.wav  \n",
            "  inflating: emotions_audio_data/files/00026029e0--64992044d94c0d5726dfffc7/joyfully.wav  \n",
            "  inflating: emotions_audio_data/files/00026029e0--64992044d94c0d5726dfffc7/sad.wav  \n",
            "  inflating: emotions_audio_data/files/00026029e0--64992044d94c0d5726dfffc7/surprised.wav  \n",
            "  inflating: emotions_audio_data/files/00026029e0--6499205bea5ed167d5bc8a8c/euphoric.amr  \n",
            "  inflating: emotions_audio_data/files/00026029e0--6499205bea5ed167d5bc8a8c/joyfully.amr  \n",
            "  inflating: emotions_audio_data/files/00026029e0--6499205bea5ed167d5bc8a8c/sad.amr  \n",
            "  inflating: emotions_audio_data/files/00026029e0--6499205bea5ed167d5bc8a8c/surprised.amr  \n",
            "  inflating: emotions_audio_data/files/00026029e0--64992099ffab6240f9f3521f/euphoric.wav  \n",
            "  inflating: emotions_audio_data/files/00026029e0--64992099ffab6240f9f3521f/joyfully.wav  \n",
            "  inflating: emotions_audio_data/files/00026029e0--64992099ffab6240f9f3521f/sad.wav  \n",
            "  inflating: emotions_audio_data/files/00026029e0--64992099ffab6240f9f3521f/surprised.wav  \n",
            "  inflating: emotions_audio_data/files/00026029e0--649920f4ffab6240f9f3677a/euphoric.wav  \n",
            "  inflating: emotions_audio_data/files/00026029e0--649920f4ffab6240f9f3677a/joyfully.wav  \n",
            "  inflating: emotions_audio_data/files/00026029e0--649920f4ffab6240f9f3677a/sad.wav  \n",
            "  inflating: emotions_audio_data/files/00026029e0--649920f4ffab6240f9f3677a/surprised.wav  \n",
            "  inflating: emotions_audio_data/files/00026029e0--64992143ffab6240f9f3787a/euphoric.wav  \n",
            "  inflating: emotions_audio_data/files/00026029e0--64992143ffab6240f9f3787a/joyfully.wav  \n",
            "  inflating: emotions_audio_data/files/00026029e0--64992143ffab6240f9f3787a/sad.wav  \n",
            "  inflating: emotions_audio_data/files/00026029e0--64992143ffab6240f9f3787a/surprised.wav  \n",
            "  inflating: emotions_audio_data/files/00026029e0--64992161e0daf97163c2535a/euphoric.wav  \n",
            "  inflating: emotions_audio_data/files/00026029e0--64992161e0daf97163c2535a/joyfully.wav  \n",
            "  inflating: emotions_audio_data/files/00026029e0--64992161e0daf97163c2535a/sad.wav  \n",
            "  inflating: emotions_audio_data/files/00026029e0--64992161e0daf97163c2535a/surprised.wav  \n",
            "  inflating: emotions_audio_data/files/00026029e0--6499219aea5ed167d5bccf6f/euphoric.amr  \n",
            "  inflating: emotions_audio_data/files/00026029e0--6499219aea5ed167d5bccf6f/joyfully.amr  \n",
            "  inflating: emotions_audio_data/files/00026029e0--6499219aea5ed167d5bccf6f/sad.amr  \n",
            "  inflating: emotions_audio_data/files/00026029e0--6499219aea5ed167d5bccf6f/surprised.amr  \n",
            "  inflating: emotions_audio_data/files/00026029e0--64992202ea5ed167d5bce5d3/euphoric.wav  \n",
            "  inflating: emotions_audio_data/files/00026029e0--64992202ea5ed167d5bce5d3/joyfully.wav  \n",
            "  inflating: emotions_audio_data/files/00026029e0--64992202ea5ed167d5bce5d3/sad.wav  \n",
            "  inflating: emotions_audio_data/files/00026029e0--64992202ea5ed167d5bce5d3/surprised.wav  \n",
            "  inflating: emotions_audio_data/files/00026029e0--6499226eef1fe70609d66276/euphoric.wav  \n",
            "  inflating: emotions_audio_data/files/00026029e0--6499226eef1fe70609d66276/joyfully.wav  \n",
            "  inflating: emotions_audio_data/files/00026029e0--6499226eef1fe70609d66276/sad.wav  \n",
            "  inflating: emotions_audio_data/files/00026029e0--6499226eef1fe70609d66276/surprised.wav  \n",
            "  inflating: emotions_audio_data/files/00026029e0--6499261299d64c4c5d32c8e2/euphoric.wav  \n",
            "  inflating: emotions_audio_data/files/00026029e0--6499261299d64c4c5d32c8e2/joyfully.wav  \n",
            "  inflating: emotions_audio_data/files/00026029e0--6499261299d64c4c5d32c8e2/sad.wav  \n",
            "  inflating: emotions_audio_data/files/00026029e0--6499261299d64c4c5d32c8e2/surprised.wav  \n",
            "  inflating: emotions_audio_data/speech_emotions.csv  \n"
          ]
        }
      ]
    },
    {
      "cell_type": "code",
      "source": [
        "!pip install -q openai-whisper\n",
        "!pip install -q language-tool-python\n",
        "!pip install -q gradio"
      ],
      "metadata": {
        "colab": {
          "base_uri": "https://localhost:8080/"
        },
        "id": "uKtKX31yop-E",
        "outputId": "2a684e5d-8ec5-4a63-a7c9-70e68765e4b9"
      },
      "execution_count": 1,
      "outputs": [
        {
          "output_type": "stream",
          "name": "stdout",
          "text": [
            "\u001b[?25l     \u001b[90m━━━━━━━━━━━━━━━━━━━━━━━━━━━━━━━━━━━━━━━━\u001b[0m \u001b[32m0.0/800.5 kB\u001b[0m \u001b[31m?\u001b[0m eta \u001b[36m-:--:--\u001b[0m\r\u001b[2K     \u001b[91m━━━━━━━━━\u001b[0m\u001b[90m╺\u001b[0m\u001b[90m━━━━━━━━━━━━━━━━━━━━━━━━━━━━━━\u001b[0m \u001b[32m184.3/800.5 kB\u001b[0m \u001b[31m5.4 MB/s\u001b[0m eta \u001b[36m0:00:01\u001b[0m\r\u001b[2K     \u001b[91m━━━━━━━━━━━━━━━━━━━━━━━━━━━━━━━━━━━━━━━\u001b[0m\u001b[91m╸\u001b[0m \u001b[32m798.7/800.5 kB\u001b[0m \u001b[31m14.4 MB/s\u001b[0m eta \u001b[36m0:00:01\u001b[0m\r\u001b[2K     \u001b[90m━━━━━━━━━━━━━━━━━━━━━━━━━━━━━━━━━━━━━━━━\u001b[0m \u001b[32m800.5/800.5 kB\u001b[0m \u001b[31m11.0 MB/s\u001b[0m eta \u001b[36m0:00:00\u001b[0m\n",
            "\u001b[?25h  Installing build dependencies ... \u001b[?25l\u001b[?25hdone\n",
            "  Getting requirements to build wheel ... \u001b[?25l\u001b[?25hdone\n",
            "  Preparing metadata (pyproject.toml) ... \u001b[?25l\u001b[?25hdone\n",
            "\u001b[2K   \u001b[90m━━━━━━━━━━━━━━━━━━━━━━━━━━━━━━━━━━━━━━━━\u001b[0m \u001b[32m1.2/1.2 MB\u001b[0m \u001b[31m38.3 MB/s\u001b[0m eta \u001b[36m0:00:00\u001b[0m\n",
            "\u001b[2K   \u001b[90m━━━━━━━━━━━━━━━━━━━━━━━━━━━━━━━━━━━━━━━━\u001b[0m \u001b[32m363.4/363.4 MB\u001b[0m \u001b[31m3.3 MB/s\u001b[0m eta \u001b[36m0:00:00\u001b[0m\n",
            "\u001b[2K   \u001b[90m━━━━━━━━━━━━━━━━━━━━━━━━━━━━━━━━━━━━━━━━\u001b[0m \u001b[32m13.8/13.8 MB\u001b[0m \u001b[31m90.0 MB/s\u001b[0m eta \u001b[36m0:00:00\u001b[0m\n",
            "\u001b[2K   \u001b[90m━━━━━━━━━━━━━━━━━━━━━━━━━━━━━━━━━━━━━━━━\u001b[0m \u001b[32m24.6/24.6 MB\u001b[0m \u001b[31m70.4 MB/s\u001b[0m eta \u001b[36m0:00:00\u001b[0m\n",
            "\u001b[2K   \u001b[90m━━━━━━━━━━━━━━━━━━━━━━━━━━━━━━━━━━━━━━━━\u001b[0m \u001b[32m883.7/883.7 kB\u001b[0m \u001b[31m40.0 MB/s\u001b[0m eta \u001b[36m0:00:00\u001b[0m\n",
            "\u001b[2K   \u001b[90m━━━━━━━━━━━━━━━━━━━━━━━━━━━━━━━━━━━━━━━━\u001b[0m \u001b[32m664.8/664.8 MB\u001b[0m \u001b[31m2.8 MB/s\u001b[0m eta \u001b[36m0:00:00\u001b[0m\n",
            "\u001b[2K   \u001b[90m━━━━━━━━━━━━━━━━━━━━━━━━━━━━━━━━━━━━━━━━\u001b[0m \u001b[32m211.5/211.5 MB\u001b[0m \u001b[31m5.7 MB/s\u001b[0m eta \u001b[36m0:00:00\u001b[0m\n",
            "\u001b[2K   \u001b[90m━━━━━━━━━━━━━━━━━━━━━━━━━━━━━━━━━━━━━━━━\u001b[0m \u001b[32m56.3/56.3 MB\u001b[0m \u001b[31m12.3 MB/s\u001b[0m eta \u001b[36m0:00:00\u001b[0m\n",
            "\u001b[2K   \u001b[90m━━━━━━━━━━━━━━━━━━━━━━━━━━━━━━━━━━━━━━━━\u001b[0m \u001b[32m127.9/127.9 MB\u001b[0m \u001b[31m7.3 MB/s\u001b[0m eta \u001b[36m0:00:00\u001b[0m\n",
            "\u001b[2K   \u001b[90m━━━━━━━━━━━━━━━━━━━━━━━━━━━━━━━━━━━━━━━━\u001b[0m \u001b[32m207.5/207.5 MB\u001b[0m \u001b[31m5.4 MB/s\u001b[0m eta \u001b[36m0:00:00\u001b[0m\n",
            "\u001b[2K   \u001b[90m━━━━━━━━━━━━━━━━━━━━━━━━━━━━━━━━━━━━━━━━\u001b[0m \u001b[32m21.1/21.1 MB\u001b[0m \u001b[31m53.0 MB/s\u001b[0m eta \u001b[36m0:00:00\u001b[0m\n",
            "\u001b[?25h  Building wheel for openai-whisper (pyproject.toml) ... \u001b[?25l\u001b[?25hdone\n",
            "\u001b[2K     \u001b[90m━━━━━━━━━━━━━━━━━━━━━━━━━━━━━━━━━━━━━━━━\u001b[0m \u001b[32m54.7/54.7 kB\u001b[0m \u001b[31m2.5 MB/s\u001b[0m eta \u001b[36m0:00:00\u001b[0m\n",
            "\u001b[2K   \u001b[90m━━━━━━━━━━━━━━━━━━━━━━━━━━━━━━━━━━━━━━━━\u001b[0m \u001b[32m54.3/54.3 kB\u001b[0m \u001b[31m4.0 MB/s\u001b[0m eta \u001b[36m0:00:00\u001b[0m\n",
            "\u001b[2K   \u001b[90m━━━━━━━━━━━━━━━━━━━━━━━━━━━━━━━━━━━━━━━━\u001b[0m \u001b[32m46.5/46.5 MB\u001b[0m \u001b[31m13.4 MB/s\u001b[0m eta \u001b[36m0:00:00\u001b[0m\n",
            "\u001b[2K   \u001b[90m━━━━━━━━━━━━━━━━━━━━━━━━━━━━━━━━━━━━━━━━\u001b[0m \u001b[32m322.2/322.2 kB\u001b[0m \u001b[31m20.9 MB/s\u001b[0m eta \u001b[36m0:00:00\u001b[0m\n",
            "\u001b[2K   \u001b[90m━━━━━━━━━━━━━━━━━━━━━━━━━━━━━━━━━━━━━━━━\u001b[0m \u001b[32m95.2/95.2 kB\u001b[0m \u001b[31m6.3 MB/s\u001b[0m eta \u001b[36m0:00:00\u001b[0m\n",
            "\u001b[2K   \u001b[90m━━━━━━━━━━━━━━━━━━━━━━━━━━━━━━━━━━━━━━━━\u001b[0m \u001b[32m11.3/11.3 MB\u001b[0m \u001b[31m97.3 MB/s\u001b[0m eta \u001b[36m0:00:00\u001b[0m\n",
            "\u001b[2K   \u001b[90m━━━━━━━━━━━━━━━━━━━━━━━━━━━━━━━━━━━━━━━━\u001b[0m \u001b[32m72.0/72.0 kB\u001b[0m \u001b[31m5.2 MB/s\u001b[0m eta \u001b[36m0:00:00\u001b[0m\n",
            "\u001b[2K   \u001b[90m━━━━━━━━━━━━━━━━━━━━━━━━━━━━━━━━━━━━━━━━\u001b[0m \u001b[32m62.3/62.3 kB\u001b[0m \u001b[31m4.2 MB/s\u001b[0m eta \u001b[36m0:00:00\u001b[0m\n",
            "\u001b[?25h"
          ]
        }
      ]
    },
    {
      "cell_type": "code",
      "source": [
        "\n",
        "!pip install -q gradio\n"
      ],
      "metadata": {
        "id": "9ifx02gtop6h"
      },
      "execution_count": 2,
      "outputs": []
    },
    {
      "cell_type": "code",
      "source": [
        "\n",
        "import whisper\n",
        "import language_tool_python\n",
        "import gradio as gr\n",
        "import matplotlib.pyplot as plt\n",
        "import tempfile\n",
        "import os\n",
        "\n",
        "# Fix matplotlib backend for Colab\n",
        "import matplotlib\n",
        "matplotlib.use('Agg')\n",
        "\n",
        "# Score history\n",
        "score_history = []\n",
        "\n",
        "# Supported LanguageTool codes\n",
        "lt_languages = {\n",
        "    'en': 'en-US',\n",
        "    'es': 'es',       # Spanish\n",
        "    'fr': 'fr',       # French\n",
        "    'de': 'de',       # German\n",
        "    'it': 'it',       # Italian\n",
        "    'pt': 'pt-PT',    # Portuguese\n",
        "    # Add more if needed\n",
        "}"
      ],
      "metadata": {
        "id": "srG1pebvo2CG"
      },
      "execution_count": 3,
      "outputs": []
    },
    {
      "cell_type": "code",
      "source": [
        "class GrammarScorer:\n",
        "    def __init__(self):\n",
        "        print(\"Loading Whisper model...\")\n",
        "        self.model = whisper.load_model(\"base\")\n",
        "        print(\"Whisper model loaded.\")\n",
        "\n",
        "    def transcribe(self, audio_path):\n",
        "        print(f\"Transcribing: {audio_path}\")\n",
        "        result = self.model.transcribe(audio_path)\n",
        "        text = result[\"text\"]\n",
        "        lang = result[\"language\"]\n",
        "        print(f\"Detected language: {lang}, Text: {text}\")\n",
        "        return text, lang\n",
        "\n",
        "    def grammar_score(self, text, lang_code):\n",
        "        lt_code = lt_languages.get(lang_code, 'en-US')\n",
        "        tool = language_tool_python.LanguageTool(lt_code)\n",
        "\n",
        "        matches = tool.check(text)\n",
        "        num_errors = len(matches)\n",
        "        num_words = len(text.split())\n",
        "\n",
        "        # Avoid division by 0\n",
        "        error_rate = num_errors / max(num_words, 1)\n",
        "        score = round(max(0, 10 - error_rate * 10), 2)\n",
        "\n",
        "        feedback = [f\"• {m.message} (\\\"{text[m.offset:m.offset + m.errorLength]}\\\")\" for m in matches]\n",
        "\n",
        "        print(f\"Errors: {num_errors}, Words: {num_words}, Score: {score}\")\n",
        "        return score, feedback\n",
        "\n",
        "\n",
        "    def process_audio(self, audio_path):\n",
        "        text, lang = self.transcribe(audio_path)\n",
        "        score, feedback = self.grammar_score(text, lang)\n",
        "        score_history.append(score)\n",
        "        return text, score, feedback, lang"
      ],
      "metadata": {
        "id": "SSTAckw8o2zq"
      },
      "execution_count": 4,
      "outputs": []
    },
    {
      "cell_type": "code",
      "source": [
        "\n",
        "def plot_score_chart():\n",
        "    if not score_history:\n",
        "        return None\n",
        "\n",
        "    plt.figure(figsize=(5, 2))\n",
        "    plt.plot(score_history, marker='o', color='blue')\n",
        "    plt.title(\"Grammar Score History\")\n",
        "    plt.xlabel(\"Attempt\")\n",
        "    plt.ylabel(\"Score\")\n",
        "    plt.ylim(0, 10)\n",
        "    plt.grid(True)\n",
        "\n",
        "    tmpfile = tempfile.NamedTemporaryFile(delete=False, suffix='.png')\n",
        "    plt.savefig(tmpfile.name)\n",
        "    plt.close()\n",
        "    return tmpfile.name"
      ],
      "metadata": {
        "id": "-kCr_QMOTQdc"
      },
      "execution_count": 5,
      "outputs": []
    },
    {
      "cell_type": "code",
      "source": [
        "\n",
        "scorer = GrammarScorer()"
      ],
      "metadata": {
        "colab": {
          "base_uri": "https://localhost:8080/"
        },
        "id": "LYwfErUWTcEl",
        "outputId": "925d90e2-ea0b-4e81-9a1b-fa457fdcebc3"
      },
      "execution_count": 6,
      "outputs": [
        {
          "output_type": "stream",
          "name": "stdout",
          "text": [
            "Loading Whisper model...\n"
          ]
        },
        {
          "output_type": "stream",
          "name": "stderr",
          "text": [
            "100%|███████████████████████████████████████| 139M/139M [00:01<00:00, 80.4MiB/s]\n"
          ]
        },
        {
          "output_type": "stream",
          "name": "stdout",
          "text": [
            "Whisper model loaded.\n"
          ]
        }
      ]
    },
    {
      "cell_type": "code",
      "source": [
        "def analyze(audio):\n",
        "    text, score, feedback, lang = scorer.process_audio(audio)\n",
        "    chart_path = plot_score_chart()\n",
        "    return text, score, \"\\n\".join(feedback if feedback else [\"No issues found.\"]), f\"Detected: {lang.upper()}\", chart_path\n",
        "\n",
        "# Gradio UI\n"
      ],
      "metadata": {
        "id": "Gqf-Jlybo2wV"
      },
      "execution_count": 7,
      "outputs": []
    },
    {
      "cell_type": "code",
      "source": [
        "\n",
        "# Gradio UI\n",
        "with gr.Blocks() as app:\n",
        "    gr.Markdown(\"# 🗣️ Grammar Scoring Engine (Multilingual)\")\n",
        "    gr.Markdown(\"Upload or record your voice. We'll transcribe, detect grammar issues, and give a score + feedback!\")\n",
        "\n",
        "    with gr.Row():\n",
        "        audio_input = gr.Audio(type=\"filepath\", label=\"🎤 Record or Upload Audio\")\n",
        "\n",
        "    with gr.Row():\n",
        "        transcript = gr.Textbox(label=\"📝 Transcription\")\n",
        "        score = gr.Number(label=\"✅ Grammar Score\")\n",
        "\n",
        "    feedback_box = gr.Textbox(label=\"📋 Feedback\")\n",
        "    lang_box = gr.Textbox(label=\"🌍 Detected Language\")\n",
        "    chart_output = gr.Image(label=\"📈 Score History\")\n",
        "\n",
        "    analyze_btn = gr.Button(\"Analyze\")\n",
        "    analyze_btn.click(fn=analyze, inputs=[audio_input], outputs=[transcript, score, feedback_box, lang_box, chart_output])\n",
        "\n",
        "app.launch(share=True)"
      ],
      "metadata": {
        "id": "KPkXEAX1o2hO",
        "colab": {
          "base_uri": "https://localhost:8080/",
          "height": 614
        },
        "outputId": "d861b139-3e7a-42b2-c888-43a58319b17c"
      },
      "execution_count": 8,
      "outputs": [
        {
          "output_type": "stream",
          "name": "stdout",
          "text": [
            "Colab notebook detected. To show errors in colab notebook, set debug=True in launch()\n",
            "* Running on public URL: https://79a3665f3419d70abc.gradio.live\n",
            "\n",
            "This share link expires in 72 hours. For free permanent hosting and GPU upgrades, run `gradio deploy` from the terminal in the working directory to deploy to Hugging Face Spaces (https://huggingface.co/spaces)\n"
          ]
        },
        {
          "output_type": "display_data",
          "data": {
            "text/plain": [
              "<IPython.core.display.HTML object>"
            ],
            "text/html": [
              "<div><iframe src=\"https://79a3665f3419d70abc.gradio.live\" width=\"100%\" height=\"500\" allow=\"autoplay; camera; microphone; clipboard-read; clipboard-write;\" frameborder=\"0\" allowfullscreen></iframe></div>"
            ]
          },
          "metadata": {}
        },
        {
          "output_type": "execute_result",
          "data": {
            "text/plain": []
          },
          "metadata": {},
          "execution_count": 8
        }
      ]
    },
    {
      "cell_type": "code",
      "source": [],
      "metadata": {
        "id": "DXbQcAylo2dx"
      },
      "execution_count": 8,
      "outputs": []
    },
    {
      "cell_type": "code",
      "source": [],
      "metadata": {
        "id": "LgDm5EaspH2O"
      },
      "execution_count": 8,
      "outputs": []
    },
    {
      "cell_type": "code",
      "source": [],
      "metadata": {
        "id": "3u1c98DtqOOS"
      },
      "execution_count": null,
      "outputs": []
    }
  ]
}